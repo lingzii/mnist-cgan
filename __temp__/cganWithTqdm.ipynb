{
  "cells": [
    {
      "cell_type": "code",
      "execution_count": null,
      "metadata": {
        "id": "X85tOfsQ9jvs"
      },
      "outputs": [],
      "source": [
        "import tensorflow as tf\n",
        "import matplotlib.pyplot as plt\n",
        "import numpy as np\n",
        "import os\n",
        "from tensorflow.keras import layers\n",
        "import time\n",
        "\n",
        "from IPython import display"
      ]
    },
    {
      "cell_type": "code",
      "execution_count": null,
      "metadata": {
        "colab": {
          "base_uri": "https://localhost:8080/"
        },
        "id": "3z0QdkU192Ds",
        "outputId": "3f7ffd10-4339-488d-f0d3-29fdbc270a97"
      },
      "outputs": [],
      "source": [
        "(train_images, train_labels), (test_images, test_labels) = tf.keras.datasets.mnist.load_data()\n",
        "print(train_images.shape)\n",
        "train_images = train_images.reshape(train_images.shape[0], 28, 28, 1).astype('float32')\n",
        "train_images = (train_images - 127.5) / 127.5\n",
        "train_dataset = tf.data.Dataset.from_tensor_slices(train_images).shuffle(60000).batch(256)"
      ]
    },
    {
      "cell_type": "code",
      "execution_count": null,
      "metadata": {
        "colab": {
          "base_uri": "https://localhost:8080/"
        },
        "id": "mzj-d312bsyv",
        "outputId": "de01b187-c9b5-4a37-87f6-55d825d0c17b"
      },
      "outputs": [],
      "source": [
        "tf.shape(train_images)"
      ]
    },
    {
      "cell_type": "code",
      "execution_count": null,
      "metadata": {
        "id": "8nEhffSS9-pM"
      },
      "outputs": [],
      "source": [
        "def create_generator():\n",
        "    model = tf.keras.Sequential()\n",
        "    \n",
        "    # creating Dense layer with units 7*7*256(batch_size) and input_shape of (100,)\n",
        "    model.add(layers.Dense(7*7, use_bias=False, input_shape=(100,)))\n",
        "    model.add(layers.BatchNormalization())\n",
        "    model.add(layers.LeakyReLU())\n",
        "\n",
        "    model.add(layers.Dense(7*7*4, use_bias=False, input_shape=(100,)))\n",
        "    model.add(layers.BatchNormalization())\n",
        "    model.add(layers.LeakyReLU())\n",
        "\n",
        "    model.add(layers.Reshape((7, 7, 4)))\n",
        "\n",
        "    model.add(layers.Conv2DTranspose(32, 3, strides=(1, 1), padding='same', use_bias=False))\n",
        "    model.add(layers.BatchNormalization())\n",
        "    model.add(layers.LeakyReLU())\n",
        "\n",
        "    model.add(layers.Conv2DTranspose(64, 3, strides=(2, 2), padding='same', use_bias=False))\n",
        "    model.add(layers.BatchNormalization())\n",
        "    model.add(layers.LeakyReLU())\n",
        "\n",
        "    model.add(layers.Conv2DTranspose(128, 3, strides=(2, 2), padding='same', use_bias=False))\n",
        "    model.add(layers.BatchNormalization())\n",
        "    model.add(layers.LeakyReLU())\n",
        "\n",
        "    model.add(layers.Conv2DTranspose(128, 3, strides=(2, 2), padding='same', use_bias=False))\n",
        "    model.add(layers.BatchNormalization())\n",
        "    model.add(layers.LeakyReLU())\n",
        "\n",
        "    model.add(layers.Conv2D(1, (5, 5), strides=(2, 2), padding='same', use_bias=False, activation='tanh'))\n",
        "\n",
        "    return model\n"
      ]
    },
    {
      "cell_type": "code",
      "execution_count": null,
      "metadata": {
        "colab": {
          "base_uri": "https://localhost:8080/"
        },
        "id": "KU9G43sM_87A",
        "outputId": "ffb4bc6d-2978-4a18-e463-7a8113bb5ca1"
      },
      "outputs": [],
      "source": [
        "g=create_generator()\n",
        "g.summary()"
      ]
    },
    {
      "cell_type": "code",
      "execution_count": null,
      "metadata": {
        "id": "6Wko24u8-A5p"
      },
      "outputs": [],
      "source": [
        "\n",
        "def create_discriminator():\n",
        "    model = tf.keras.Sequential()\n",
        "    model.add(layers.Conv2D(32, (5, 5), strides=(2, 2), padding='same', input_shape=[28, 28, 1], activation='relu'))\n",
        "    # model.add(layers.LeakyReLU())\n",
        "    model.add(layers.Dropout(0.3))\n",
        "\n",
        "    model.add(layers.Conv2D(64, (5, 5), strides=(2, 2), padding='same', activation='relu'))\n",
        "    # model.add(layers.LeakyReLU())\n",
        "    model.add(layers.Dropout(0.3))\n",
        "\n",
        "    model.add(layers.Conv2D(128, (5, 5), strides=(2, 2), padding='same', activation='relu'))\n",
        "    # model.add(layers.LeakyReLU())\n",
        "    model.add(layers.Dropout(0.3))\n",
        "\n",
        "    model.add(layers.Flatten())\n",
        "    model.add(layers.Dense(128, activation='relu'))\n",
        "    model.add(layers.Dropout(0.3))\n",
        "    model.add(layers.Dense(1))\n",
        "\n",
        "    return model"
      ]
    },
    {
      "cell_type": "code",
      "execution_count": null,
      "metadata": {
        "colab": {
          "base_uri": "https://localhost:8080/"
        },
        "id": "i4xSqYyVAD4M",
        "outputId": "7dff0042-cd1d-41cc-da87-044faf3bd19c"
      },
      "outputs": [],
      "source": [
        "d=create_discriminator()\n",
        "d.summary()"
      ]
    },
    {
      "cell_type": "code",
      "execution_count": null,
      "metadata": {
        "id": "_vBdjbtf-Cq1"
      },
      "outputs": [],
      "source": [
        "\n",
        "cross_entropy = tf.keras.losses.BinaryCrossentropy(from_logits=True)\n",
        "\n",
        "def D_loss(real_output, fake_output):\n",
        "    real_loss = cross_entropy(tf.ones_like(real_output), real_output)\n",
        "    fake_loss = cross_entropy(tf.zeros_like(fake_output), fake_output)\n",
        "    total_loss = real_loss + fake_loss\n",
        "    return total_loss\n",
        "  \n",
        "def G_loss(fake_output):\n",
        "    return cross_entropy(tf.ones_like(fake_output), fake_output)"
      ]
    },
    {
      "cell_type": "code",
      "execution_count": null,
      "metadata": {
        "id": "1Ht6xH88-EQO"
      },
      "outputs": [],
      "source": [
        "generator_optimizer = tf.keras.optimizers.Adam(1e-4)\n",
        "discriminator_optimizer = tf.keras.optimizers.Adam(1e-4)"
      ]
    },
    {
      "cell_type": "code",
      "execution_count": null,
      "metadata": {
        "id": "LKeG1oYK-F6Y"
      },
      "outputs": [],
      "source": [
        "noise_dim = 100\n",
        "num_of_generated_examples = 16\n",
        "\n",
        "seed = tf.random.normal([num_of_generated_examples, noise_dim])"
      ]
    },
    {
      "cell_type": "code",
      "execution_count": null,
      "metadata": {
        "id": "eDehloAp-HIf"
      },
      "outputs": [],
      "source": [
        "generator = create_generator()\n",
        "discriminator = create_discriminator()\n",
        "\n",
        "@tf.function\n",
        "def train_step(images):\n",
        "    noise = tf.random.normal([32, noise_dim])\n",
        "\n",
        "    global generator, discriminator\n",
        "    \n",
        "    with tf.GradientTape() as gen_tape, tf.GradientTape() as disc_tape:\n",
        "      generated_images = generator(noise, training=True)\n",
        "\n",
        "      real_output = discriminator(images, training=True)\n",
        "      fake_output = discriminator(generated_images, training=True)\n",
        "\n",
        "      gen_loss = G_loss(fake_output)\n",
        "      disc_loss = D_loss(real_output, fake_output)\n",
        "\n",
        "    gradients_of_generator = gen_tape.gradient(gen_loss, generator.trainable_variables)\n",
        "    gradients_of_discriminator = disc_tape.gradient(disc_loss, discriminator.trainable_variables) \n",
        "\n",
        "    generator_optimizer.apply_gradients(zip(gradients_of_generator, generator.trainable_variables))\n",
        "    discriminator_optimizer.apply_gradients(zip(gradients_of_discriminator, discriminator.trainable_variables))"
      ]
    },
    {
      "cell_type": "code",
      "execution_count": null,
      "metadata": {
        "id": "r3KfZj9g-MYY"
      },
      "outputs": [],
      "source": [
        "from tqdm import tqdm\n",
        "\n",
        "def train_GAN(dataset, epochs):\n",
        "  for epoch in range(epochs):\n",
        "    start = time.time()\n",
        "\n",
        "    for image_batch in tqdm(dataset):\n",
        "      train_step(image_batch)\n",
        "      \n",
        "    print ('Time for epoch {} is {} sec'.format(epoch + 1, time.time()-start))\n",
        "\n",
        "    # noise= np.random.normal(loc=0, scale=1, size=[examples, 64])\n",
        "    noise = tf.random.normal([100, noise_dim])\n",
        "    generated_images = generator.predict(noise)\n",
        "    # generated_images = generated_images.reshape(100,28,28)\n",
        "    dim=(10,10)\n",
        "    figsize=(10,10)\n",
        "    plt.figure(figsize=figsize)\n",
        "    # plt.figure()\n",
        "    for i in range(generated_images.shape[0]):\n",
        "        plt.subplot(dim[0], dim[1], i+1)\n",
        "        plt.imshow(generated_images[i].reshape(28, 28), interpolation='nearest', cmap='gray')\n",
        "        plt.axis('off')\n",
        "    plt.tight_layout()\n",
        "    plt.savefig('gan_generated_image %d.png' %epoch)"
      ]
    },
    {
      "cell_type": "code",
      "execution_count": null,
      "metadata": {
        "id": "evxxBgah-On-"
      },
      "outputs": [],
      "source": [
        "train_GAN(train_dataset, 100)"
      ]
    },
    {
      "cell_type": "code",
      "execution_count": null,
      "metadata": {
        "colab": {
          "base_uri": "https://localhost:8080/"
        },
        "id": "870lUg4S-cht",
        "outputId": "caf8b3c1-61e2-4119-ce94-7de9a4f5e6b5"
      },
      "outputs": [],
      "source": [
        "generator.save('generator4.h5')"
      ]
    },
    {
      "cell_type": "code",
      "execution_count": null,
      "metadata": {
        "colab": {
          "base_uri": "https://localhost:8080/"
        },
        "id": "N2lGg1SBM4hf",
        "outputId": "e9811466-8734-4016-994b-b8e317c9dd92"
      },
      "outputs": [],
      "source": [
        "discriminator.save('discriminator4.h5')"
      ]
    },
    {
      "cell_type": "code",
      "execution_count": null,
      "metadata": {
        "colab": {
          "base_uri": "https://localhost:8080/"
        },
        "id": "HRObukCZNFM4",
        "outputId": "3af56283-2607-4c6c-b954-5ff646f0b2da"
      },
      "outputs": [],
      "source": [
        "g = tf.keras.models.load_model('generator4.h5')"
      ]
    },
    {
      "cell_type": "code",
      "execution_count": null,
      "metadata": {
        "colab": {
          "base_uri": "https://localhost:8080/"
        },
        "id": "3_JzKb1Q_GCh",
        "outputId": "8ecdd393-71b5-43ef-f2b4-cff1ae496e37"
      },
      "outputs": [],
      "source": [
        "g.summary()"
      ]
    },
    {
      "cell_type": "code",
      "execution_count": null,
      "metadata": {
        "colab": {
          "base_uri": "https://localhost:8080/",
          "height": 369
        },
        "id": "o4ZlZcvX_QDG",
        "outputId": "ff3ad2ad-b26c-4817-8f27-b0470f304246"
      },
      "outputs": [],
      "source": [
        "noise = tf.random.normal([1, noise_dim])\n",
        "generated_images = g.predict(noise)\n",
        "# generated_images = generated_images.reshape(100,28,28)\n",
        "dim=(10,10)\n",
        "figsize=(5,5)\n",
        "plt.figure(figsize=figsize)\n",
        "# plt.figure()\n",
        "# for i in range(generated_images.shape[0]):\n",
        "#     plt.subplot(dim[0], dim[1], i+1)\n",
        "#     plt.imshow(generated_images[i].reshape(28, 28), interpolation='nearest', cmap='gray')\n",
        "#     plt.axis('off')\n",
        "plt.imshow(generated_images.reshape(28, 28), interpolation='nearest', cmap='gray')\n",
        "plt.tight_layout()\n",
        "# plt.savefig('gan_generated_image %d.png' %epoch)"
      ]
    },
    {
      "cell_type": "code",
      "execution_count": null,
      "metadata": {
        "id": "lWtjc3op_amE"
      },
      "outputs": [],
      "source": [
        "d = tf.keras.models.load_model('../c8v1/discriminator1.h5')\n",
        "d.summary()"
      ]
    },
    {
      "cell_type": "code",
      "execution_count": null,
      "metadata": {
        "colab": {
          "base_uri": "https://localhost:8080/"
        },
        "id": "2WameNX-AP38",
        "outputId": "b3cf4c4a-b8fd-4c04-dc4e-4bf764ba9f82"
      },
      "outputs": [],
      "source": [
        "d.predict(generated_images)"
      ]
    }
  ],
  "metadata": {
    "colab": {
      "collapsed_sections": [],
      "name": "c8=26-11-21.ipynb",
      "provenance": []
    },
    "interpreter": {
      "hash": "c9c8b6b82104be7723b6ce605638c87ba5946fa3b8761a51c3206ec9ef421040"
    },
    "kernelspec": {
      "display_name": "Python 3.9.12 ('tfgpu-2.6')",
      "language": "python",
      "name": "python3"
    },
    "language_info": {
      "codemirror_mode": {
        "name": "ipython",
        "version": 3
      },
      "file_extension": ".py",
      "mimetype": "text/x-python",
      "name": "python",
      "nbconvert_exporter": "python",
      "pygments_lexer": "ipython3",
      "version": "3.9.12"
    }
  },
  "nbformat": 4,
  "nbformat_minor": 0
}
